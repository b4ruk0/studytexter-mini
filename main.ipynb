{
 "cells": [
  {
   "cell_type": "code",
   "execution_count": null,
   "metadata": {},
   "outputs": [],
   "source": [
    "{\n",
    "    \"searchParameters\": {\n",
    "        \"q\": \"kharkiv\",\n",
    "        \"type\": \"search\",\n",
    "        \"num\": 3,\n",
    "        \"engine\": \"google\",\n",
    "    },\n",
    "    \"knowledgeGraph\": {\n",
    "        \"title\": \"Kharkiv\",\n",
    "        \"type\": \"City in Ukraine\",\n",
    "        \"imageUrl\": \"https://encrypted-tbn0.gstatic.com/images?q=tbn:ANd9GcRlFFkZ3EnVe1FLXh3DtXX94Abhi6JNygo&s=0\",\n",
    "        \"description\": \"Kharkiv is a city in northeast Ukraine. Sprawling Freedom Square is home to the constructivist Derzhprom building. Shevchenko Park features botanic gardens and a zoo. Kharkiv State Academic Opera and Ballet Theatre stages regular performances. Southwest is the huge Annunciation Cathedral, with 5 domes and a bell tower. Northeast, Maxim Gorky Central Park has a giant Ferris wheel and a cable car.\",\n",
    "    },\n",
    "    \"organic\": [\n",
    "        {\n",
    "            \"title\": \"Kharkiv - Wikipedia\",\n",
    "            \"link\": \"https://en.wikipedia.org/wiki/Kharkiv\",\n",
    "            \"snippet\": \"Kharkiv, also known as Kharkov, is the second-largest city in Ukraine. Located in the northeast of the country, it is the largest city of the historic ...\",\n",
    "            \"sitelinks\": [\n",
    "                {\"title\": \"Kharkiv Oblast\", \"link\": \"https://en.wikipedia.org/wiki/Kharkiv_Oblast\"},\n",
    "                {\"title\": \"2024 Kharkiv offensive\", \"link\": \"https://en.wikipedia.org/wiki/2024_Kharkiv_offensive\"},\n",
    "                {\"title\": \"Battle of Kharkiv (2022)\", \"link\": \"https://en.wikipedia.org/wiki/Battle_of_Kharkiv_(2022)\"},\n",
    "                {\"title\": \"Kharkiv Raion\", \"link\": \"https://en.wikipedia.org/wiki/Kharkiv_Raion\"},\n",
    "            ],\n",
    "            \"position\": 1,\n",
    "        },\n",
    "        {\n",
    "            \"title\": \"Kharkiv | History, Map, & Population - Britannica\",\n",
    "            \"link\": \"https://www.britannica.com/place/Kharkiv-Ukraine\",\n",
    "            \"snippet\": \"Kharkiv is one of the most important cultural and educational centres of Ukraine. During the 19th century it was a hub of the Ukrainian cultural ...\",\n",
    "            \"date\": \"Jan 25, 2025\",\n",
    "            \"position\": 2,\n",
    "        },\n",
    "    ],\n",
    "    \"relatedSearches\": [\n",
    "        {\"query\": \"Kharkiv\"},\n",
    "        {\"query\": \"Kharkiv in Ukraine map\"},\n",
    "        {\"query\": \"Kharkiv map war\"},\n",
    "        {\"query\": \"Kharkiv attack today\"},\n",
    "        {\"query\": \"Is Kharkiv Russian or Ukrainian\"},\n",
    "        {\"query\": \"Kharkiv pronunciation\"},\n",
    "        {\"query\": \"Kharkiv news\"},\n",
    "        {\"query\": \"Kharkiv war\"},\n",
    "        {\"query\": \"Kharkiv map Google\"},\n",
    "    ],\n",
    "    \"credits\": 1,\n",
    "}"
   ]
  }
 ],
 "metadata": {
  "kernelspec": {
   "display_name": "venv",
   "language": "python",
   "name": "python3"
  },
  "language_info": {
   "codemirror_mode": {
    "name": "ipython",
    "version": 3
   },
   "file_extension": ".py",
   "mimetype": "text/x-python",
   "name": "python",
   "nbconvert_exporter": "python",
   "pygments_lexer": "ipython3",
   "version": "3.12.3"
  }
 },
 "nbformat": 4,
 "nbformat_minor": 2
}
