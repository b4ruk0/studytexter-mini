{
 "cells": [
  {
   "cell_type": "code",
   "execution_count": 60,
   "metadata": {},
   "outputs": [],
   "source": [
    "from bs4 import BeautifulSoup\n",
    "from dotenv import load_dotenv\n",
    "import requests\n",
    "import os\n",
    "import json\n",
    "from main import *"
   ]
  },
  {
   "cell_type": "code",
   "execution_count": 3,
   "metadata": {},
   "outputs": [],
   "source": [
    "load_dotenv()\n",
    "\n",
    "serper_api_key = os.getenv(\"SERPER_API_KEY\")\n",
    "scraperapi_api_key = os.getenv(\"SCRAPERAPI_API_KEY\")"
   ]
  },
  {
   "cell_type": "markdown",
   "metadata": {},
   "source": [
    "---"
   ]
  },
  {
   "cell_type": "markdown",
   "metadata": {},
   "source": [
    "# Find content on a topic"
   ]
  },
  {
   "cell_type": "code",
   "execution_count": 4,
   "metadata": {},
   "outputs": [],
   "source": [
    "# Function for searching websites.\n",
    "def perform_serper_search(\n",
    "    query,\n",
    "    api_key,\n",
    "    geo=\"us\",\n",
    "    lang=\"en\",\n",
    "    top_results=5,\n",
    "):\n",
    "    \"https://serper.dev/\"\n",
    "\n",
    "    endpoint = \"https://google.serper.dev/search\"\n",
    "    headers = {\"X-API-KEY\": api_key, \"Content-Type\": \"application/json\"}\n",
    "    payload = {\n",
    "        \"q\": query,\n",
    "        \"gl\": geo,\n",
    "        \"hl\": lang,\n",
    "        \"num\": top_results,\n",
    "    }\n",
    "\n",
    "    response = requests.post(endpoint, json=payload, headers=headers)\n",
    "    return response.json()"
   ]
  },
  {
   "cell_type": "code",
   "execution_count": 12,
   "metadata": {},
   "outputs": [],
   "source": [
    "# Entry data.\n",
    "query = \"Pizza service in Mongolia\"\n",
    "\n",
    "# Searching websites -> List of lists of libraries.\n",
    "response = perform_serper_search(query, serper_api_key)"
   ]
  },
  {
   "cell_type": "code",
   "execution_count": 6,
   "metadata": {},
   "outputs": [],
   "source": [
    "# Deviding list into another ones according to categories.\n",
    "search_params = response.get(\"searchParameters\")\n",
    "results = response.get(\"organic\")\n",
    "locations = response.get(\"places\")\n",
    "related_queries = response.get(\"relatedSearches\")"
   ]
  },
  {
   "cell_type": "code",
   "execution_count": null,
   "metadata": {},
   "outputs": [],
   "source": [
    "results"
   ]
  },
  {
   "cell_type": "markdown",
   "metadata": {},
   "source": [
    "---"
   ]
  },
  {
   "cell_type": "markdown",
   "metadata": {},
   "source": [
    "# Extract content from the sources"
   ]
  },
  {
   "cell_type": "code",
   "execution_count": 11,
   "metadata": {},
   "outputs": [],
   "source": [
    "# Function for getting data from website.\n",
    "def scrape_url(url, api_key):\n",
    "    scraperapi_url = f\"http://api.scraperapi.com/?api_key={api_key}&url={url}&render=true\"\n",
    "    response = requests.get(scraperapi_url)\n",
    "\n",
    "    if response.status_code == 200:\n",
    "        soup = BeautifulSoup(response.text, \"html.parser\")\n",
    "        return soup.get_text()\n",
    "\n",
    "    else:\n",
    "        print(f\"Failed to fetch {url}, status code: {response.status_code}\")"
   ]
  },
  {
   "cell_type": "code",
   "execution_count": 19,
   "metadata": {},
   "outputs": [],
   "source": [
    "### M\n",
    "# Making an array out of urls.\n",
    "urls = []\n",
    "for result in results:\n",
    "    urls.append(result['link'])"
   ]
  },
  {
   "cell_type": "code",
   "execution_count": 43,
   "metadata": {},
   "outputs": [],
   "source": [
    "url = \"https://www.reddit.com/r/PizzaCrimes/comments/weczmj/two_pizzas_from_this_delivery_place_in_mongolia/\"\n",
    "\n",
    "# Getting data from the website.\n",
    "content = scrape_url(url, scraperapi_api_key)"
   ]
  },
  {
   "cell_type": "code",
   "execution_count": null,
   "metadata": {},
   "outputs": [],
   "source": [
    "content_raw_cleaned = \"\\n\".join([line for line in content.splitlines() if line])\n",
    "print(content_raw_cleaned)"
   ]
  },
  {
   "cell_type": "code",
   "execution_count": 57,
   "metadata": {},
   "outputs": [],
   "source": [
    "section_above_comments = content_raw_cleaned.split(\"ago\")[0]\n",
    "section_below_comments = content_raw_cleaned.split(\"More posts you may like\")[-1]"
   ]
  },
  {
   "cell_type": "code",
   "execution_count": 58,
   "metadata": {},
   "outputs": [],
   "source": [
    "comment_section = content_raw_cleaned.replace(section_above_comments, \"\").replace(section_below_comments, \"\")"
   ]
  },
  {
   "cell_type": "code",
   "execution_count": 61,
   "metadata": {},
   "outputs": [
    {
     "name": "stdout",
     "output_type": "stream",
     "text": [
      "ago \n",
      "MattFromChina\n",
      "      ADMIN\n",
      "    \n",
      "      MOD\n",
      "    \n",
      "       Two pizzas from this delivery place in Mongolia.\n",
      "    \n",
      "    Identity theft\n",
      "  \n",
      " \n",
      " \n",
      " \n",
      "ForeverEntert\n",
      "•\n",
      "Promoted\n",
      "THE HOUSE OF THE DEAD 2: Remake is coming to Nintendo Switch, PC, Xbox, and PlayStation in Spring 2025!\n",
      "View More \n",
      "      store.steampowered.com\n",
      "    \n",
      "        Collapse video player\n",
      "      \n",
      "Add a comment\n",
      "                Sort by:\n",
      "              \n",
      "Best\n",
      "Open comment sort options\n",
      "Best\n",
      "Top\n",
      "New\n",
      "Controversial\n",
      "Old\n",
      "Q&A\n",
      "      QualityVote\n",
      "    \n",
      "•\n",
      " 3y ago \n",
      "    Hi! This is our community moderation bot.\n",
      "  \n",
      "    If this post is a pizza crime , UPVOTE this comment!!\n",
      "  \n",
      "    If this post is innocent, DOWNVOTE This comment!\n",
      "  \n",
      "    If this post breaks the rules, DOWNVOTE this comment and REPORT the post!\n",
      "  \n",
      " Reply \n",
      "          reply\n",
      "        \n",
      "      Chainsaws_n_meth\n",
      "    \n",
      "•\n",
      " 3y ago \n",
      "    I have allergies to nuts, and I kinda want to go all the way to Mongolia just to thank these guys for the warning in person.\n",
      "  \n",
      " Reply \n",
      "          reply\n",
      "        \n",
      "[deleted]\n",
      "•\n",
      " 3y ago \n",
      "    This is a strange \"pizza,\" but I think I will withhold judgement. It looks pretty good, atleast the presentation is nice. This is something I would have to try myself to truly know if it's worthy of atleast an honory pizza title.\n",
      "  \n",
      " Reply \n",
      "          reply\n",
      "        \n",
      "      california_dying\n",
      "    \n",
      "•\n",
      " 3y ago \n",
      "    The flavor combo in the first one is intriguing. I’m not sold on the presentation/dish but I would try something else with that combination of ingredients.\n",
      "  \n",
      "    Pomegranates+walnuts (satsivi is walnut-based)+cheese+tomato+pepper, sounds kinda pimento-ish. it’s hitting a lot of different, complementary taste buds.\n",
      "  \n",
      " Reply \n",
      "          reply\n",
      "        \n",
      "      figbott\n",
      "    \n",
      "•\n",
      " 3y ago \n",
      "Top 1% Commenter\n",
      "    Walnut allergics PAY ATTENTION 🚨\n",
      "  \n",
      " Reply \n",
      "          reply\n",
      "        \n",
      "      Dasfxx1877\n",
      "    \n",
      "•\n",
      " 3y ago \n",
      "    Perhaps the first one resembles Mongolian food? I have no idea…\n",
      "  \n",
      " Reply \n",
      "          reply\n",
      "        \n",
      "      MattFromChina\n",
      "    \n",
      "•\n",
      " 3y ago \n",
      "    Not exactly Mongolian style. Was thinking it’s maybe something from the Caucasus region or Georgia.\n",
      "  \n",
      " Reply \n",
      "          reply\n",
      "        \n",
      "1 more reply\n",
      "1 more reply\n",
      "More replies\n",
      "More replies\n",
      "[deleted]\n",
      "•\n",
      " 3y ago \n",
      "    Those middle layers of…dough?…look entirely raw.\n",
      "  \n",
      " Reply \n",
      "          reply\n",
      "        \n",
      "      CommanderCorrigan\n",
      "    \n",
      "•\n",
      " 3y ago \n",
      "    Pomegranate wtf\n",
      "  \n",
      " Reply \n",
      "          reply\n",
      "        \n",
      "      eggdropsoap\n",
      "    \n",
      "•\n",
      " 3y ago \n",
      "    I’m horrified in a pleased way to see what other cultures develop based on the pizza concept.\n",
      "  \n",
      "    Truly it is the food of humanity.\n",
      "  \n",
      " Reply \n",
      "          reply\n",
      "        \n",
      "              Top 1%\n",
      "            \n",
      "              Rank by size \n",
      " Public\n",
      "   Anyone can view, post, and comment to this community\n",
      "    More posts you may like\n"
     ]
    }
   ],
   "source": [
    "print(comment_section)"
   ]
  },
  {
   "cell_type": "code",
   "execution_count": 77,
   "metadata": {},
   "outputs": [
    {
     "name": "stdout",
     "output_type": "stream",
     "text": [
      "{\n",
      "  \"comments\": [\n",
      "    \"Two pizzas from this delivery place in Mongolia.\",\n",
      "    \"I have allergies to nuts, and I kinda want to go all the way to Mongolia just to thank these guys for the warning in person.\",\n",
      "    \"This is a strange 'pizza,' but I think I will withhold judgement. It looks pretty good, atleast the presentation is nice. This is something I would have to try myself to truly know if it's worthy of atleast an honory pizza title.\",\n",
      "    \"The flavor combo in the first one is intriguing. I’m not sold on the presentation/dish but I would try something else with that combination of ingredients. Pomegranates+walnuts (satsivi is walnut-based)+cheese+tomato+pepper, sounds kinda pimento-ish. it’s hitting a lot of different, complementary taste buds.\",\n",
      "    \"Walnut allergics PAY ATTENTION 🚨\",\n",
      "    \"Perhaps the first one resembles Mongolian food? I have no idea…\",\n",
      "    \"Not exactly Mongolian style. Was thinking it’s maybe something from the Caucasus region or Georgia.\",\n",
      "    \"Those middle layers of…dough?…look entirely raw.\",\n",
      "    \"Pomegranate wtf\",\n",
      "    \"I’m horrified in a pleased way to see what other cultures develop based on the pizza concept. Truly it is the food of humanity.\"\n",
      "  ]\n",
      "}\n"
     ]
    }
   ],
   "source": [
    "message =[{\"role\": \"user\", \"content\": f\"This is html section with comments of reddit. Analyze text and provide list of only the string comments as JSON wrapped in the key 'comments': {comment_section}\"}]\n",
    "structured_comments = call_gpt(message, use_json=True)\n",
    "print(structured_comments)"
   ]
  },
  {
   "cell_type": "code",
   "execution_count": 78,
   "metadata": {},
   "outputs": [
    {
     "data": {
      "text/plain": [
       "['Two pizzas from this delivery place in Mongolia.',\n",
       " 'I have allergies to nuts, and I kinda want to go all the way to Mongolia just to thank these guys for the warning in person.',\n",
       " \"This is a strange 'pizza,' but I think I will withhold judgement. It looks pretty good, atleast the presentation is nice. This is something I would have to try myself to truly know if it's worthy of atleast an honory pizza title.\",\n",
       " 'The flavor combo in the first one is intriguing. I’m not sold on the presentation/dish but I would try something else with that combination of ingredients. Pomegranates+walnuts (satsivi is walnut-based)+cheese+tomato+pepper, sounds kinda pimento-ish. it’s hitting a lot of different, complementary taste buds.',\n",
       " 'Walnut allergics PAY ATTENTION 🚨',\n",
       " 'Perhaps the first one resembles Mongolian food? I have no idea…',\n",
       " 'Not exactly Mongolian style. Was thinking it’s maybe something from the Caucasus region or Georgia.',\n",
       " 'Those middle layers of…dough?…look entirely raw.',\n",
       " 'Pomegranate wtf',\n",
       " 'I’m horrified in a pleased way to see what other cultures develop based on the pizza concept. Truly it is the food of humanity.']"
      ]
     },
     "execution_count": 78,
     "metadata": {},
     "output_type": "execute_result"
    }
   ],
   "source": [
    "comments = json.loads(structured_comments).get(\"comments\")\n",
    "comments"
   ]
  },
  {
   "cell_type": "markdown",
   "metadata": {},
   "source": [
    "---"
   ]
  },
  {
   "cell_type": "markdown",
   "metadata": {},
   "source": [
    "# Feed content into paper"
   ]
  },
  {
   "cell_type": "code",
   "execution_count": 2,
   "metadata": {},
   "outputs": [],
   "source": [
    "# ..."
   ]
  }
 ],
 "metadata": {
  "kernelspec": {
   "display_name": "venv",
   "language": "python",
   "name": "python3"
  },
  "language_info": {
   "codemirror_mode": {
    "name": "ipython",
    "version": 3
   },
   "file_extension": ".py",
   "mimetype": "text/x-python",
   "name": "python",
   "nbconvert_exporter": "python",
   "pygments_lexer": "ipython3",
   "version": "3.12.3"
  }
 },
 "nbformat": 4,
 "nbformat_minor": 2
}
